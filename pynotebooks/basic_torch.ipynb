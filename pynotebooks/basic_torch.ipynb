{
 "cells": [
  {
   "cell_type": "code",
   "execution_count": 2,
   "metadata": {},
   "outputs": [],
   "source": [
    "\"import necessary packages\"\n",
    "import torch\n",
    "import torch.nn as nn\n",
    "import torch.nn.functional as F\n"
   ]
  },
  {
   "cell_type": "code",
   "execution_count": 6,
   "metadata": {},
   "outputs": [
    {
     "name": "stdout",
     "output_type": "stream",
     "text": [
      "[logits]\n",
      " tensor([[3., 1., 3., 7., 5., 1., 8., 2.],\n",
      "        [8., 9., 9., 2., 5., 9., 7., 7.],\n",
      "        [1., 0., 3., 6., 8., 1., 5., 5.]])\n",
      "[label]\n",
      " tensor([6, 5, 2])\n",
      "[loss]\n",
      " tensor(2.2922)\n",
      "[loss(reimplement)]  tensor(2.2922)\n"
     ]
    }
   ],
   "source": [
    "\"CrossEntropyLoss Function\"\n",
    "reduction='mean'\n",
    "num_predict=3\n",
    "vocab_size=8\n",
    "\n",
    "logits=torch.randint(0,10,(num_predict,vocab_size)).to(dtype=torch.float32)\n",
    "label=torch.arange(num_predict).random_(vocab_size-1)\n",
    "print(\"[logits]\\n\",logits)\n",
    "print(\"[label]\\n\",label)\n",
    "\n",
    "loss_func=nn.CrossEntropyLoss(reduction=reduction) # alert that reduction of CrossEntropyLoss is mean\n",
    "print(\"[loss]\\n\",loss_func(logits,label))\n",
    "\n",
    "#### reimplement ####\n",
    "logits_dim_max=logits.amax(-1,keepdim=True)\n",
    "after_diff_logits = logits-logits_dim_max # to avoid digits overflow \n",
    "### softmax ###\n",
    "after_softmax_logits=after_diff_logits.exp()/after_diff_logits.exp().sum(-1,keepdim=True)\n",
    "### softmax ###\n",
    "### NLL: negative log-likehood ###\n",
    "after_log_logits = -(after_softmax_logits.log())\n",
    "### NLL: negative log-likehood ###\n",
    "### calculate loss ###\n",
    "before_reduction=after_log_logits[[i for i in range(num_predict)], label]\n",
    "if reduction=='mean':\n",
    "    loss=before_reduction.mean()\n",
    "elif reduction=='sum':\n",
    "    loss=before_reduction.sum()\n",
    "elif reduction=='none':\n",
    "    loss=before_reduction\n",
    "### calculate loss ###\n",
    "print(\"[loss(reimplement)] \",loss)\n",
    "#### reimplement ####\n"
   ]
  }
 ],
 "metadata": {
  "kernelspec": {
   "display_name": "delius",
   "language": "python",
   "name": "python3"
  },
  "language_info": {
   "codemirror_mode": {
    "name": "ipython",
    "version": 3
   },
   "file_extension": ".py",
   "mimetype": "text/x-python",
   "name": "python",
   "nbconvert_exporter": "python",
   "pygments_lexer": "ipython3",
   "version": "3.11.9"
  }
 },
 "nbformat": 4,
 "nbformat_minor": 2
}
